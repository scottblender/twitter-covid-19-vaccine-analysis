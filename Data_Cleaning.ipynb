{
  "nbformat": 4,
  "nbformat_minor": 0,
  "metadata": {
    "colab": {
      "name": "Data_Cleaning.ipynb",
      "provenance": [],
      "include_colab_link": true
    },
    "kernelspec": {
      "name": "python3",
      "display_name": "Python 3"
    },
    "language_info": {
      "name": "python"
    }
  },
  "cells": [
    {
      "cell_type": "markdown",
      "metadata": {
        "id": "view-in-github",
        "colab_type": "text"
      },
      "source": [
        "<a href=\"https://colab.research.google.com/github/scottblender/twitter-covid-19-vaccine-analysis/blob/main/Data_Cleaning.ipynb\" target=\"_parent\"><img src=\"https://colab.research.google.com/assets/colab-badge.svg\" alt=\"Open In Colab\"/></a>"
      ]
    },
    {
      "cell_type": "code",
      "metadata": {
        "id": "KSYWLKjaMwrd"
      },
      "source": [
        "import pandas as pd\n",
        "import string\n",
        "import sys,csv,re"
      ],
      "execution_count": null,
      "outputs": []
    },
    {
      "cell_type": "code",
      "metadata": {
        "colab": {
          "base_uri": "https://localhost:8080/"
        },
        "id": "6DgreSxVNEpr",
        "outputId": "6a10be5b-8721-49fe-f048-a1cbb72d7049"
      },
      "source": [
        "Tweets_May_1 = pd.read_csv('First Extract.csv')"
      ],
      "execution_count": null,
      "outputs": [
        {
          "output_type": "stream",
          "text": [
            "/usr/local/lib/python3.7/dist-packages/IPython/core/interactiveshell.py:2718: DtypeWarning: Columns (0,1,2,3,4,5,8,9,10,11,12,13,14,15,16) have mixed types.Specify dtype option on import or set low_memory=False.\n",
            "  interactivity=interactivity, compiler=compiler, result=result)\n"
          ],
          "name": "stderr"
        }
      ]
    },
    {
      "cell_type": "code",
      "metadata": {
        "colab": {
          "base_uri": "https://localhost:8080/"
        },
        "id": "U1AqUdaX4-sD",
        "outputId": "9877bd3c-135e-4ad1-d6d1-26f3e82bbcb7"
      },
      "source": [
        "Tweets_May_2 = pd.read_csv('Second Extract.csv')"
      ],
      "execution_count": null,
      "outputs": [
        {
          "output_type": "stream",
          "text": [
            "/usr/local/lib/python3.7/dist-packages/IPython/core/interactiveshell.py:2718: DtypeWarning: Columns (0,1,2,3,4,5,8,9,10,11,12,13,14,15,16) have mixed types.Specify dtype option on import or set low_memory=False.\n",
            "  interactivity=interactivity, compiler=compiler, result=result)\n"
          ],
          "name": "stderr"
        }
      ]
    },
    {
      "cell_type": "code",
      "metadata": {
        "id": "Y0-bn60D5doI"
      },
      "source": [
        "Tweets_May = pd.concat([Tweets_May_1,Tweets_May_2])"
      ],
      "execution_count": null,
      "outputs": []
    },
    {
      "cell_type": "code",
      "metadata": {
        "id": "BpQFLJddN2Jg"
      },
      "source": [
        "Tweets_May = Tweets_May[Tweets_May['Language']=='en']"
      ],
      "execution_count": null,
      "outputs": []
    },
    {
      "cell_type": "code",
      "metadata": {
        "colab": {
          "base_uri": "https://localhost:8080/"
        },
        "id": "l71yYYZmOacF",
        "outputId": "0c8af0db-9b4a-406f-b53b-3f1c8808407b"
      },
      "source": [
        "Tweets_May.shape"
      ],
      "execution_count": null,
      "outputs": [
        {
          "output_type": "execute_result",
          "data": {
            "text/plain": [
              "(184860, 17)"
            ]
          },
          "metadata": {
            "tags": []
          },
          "execution_count": 27
        }
      ]
    },
    {
      "cell_type": "code",
      "metadata": {
        "colab": {
          "base_uri": "https://localhost:8080/",
          "height": 564
        },
        "id": "s9VGTJItOfXh",
        "outputId": "6a02281b-e64f-4777-d717-8a9717d66360"
      },
      "source": [
        "Tweets_May['Text'] = Tweets_May['Text'].apply(lambda x: \" \".join(x.lower() for x in x.split()))\n",
        "Tweets_May.head()"
      ],
      "execution_count": null,
      "outputs": [
        {
          "output_type": "execute_result",
          "data": {
            "text/html": [
              "<div>\n",
              "<style scoped>\n",
              "    .dataframe tbody tr th:only-of-type {\n",
              "        vertical-align: middle;\n",
              "    }\n",
              "\n",
              "    .dataframe tbody tr th {\n",
              "        vertical-align: top;\n",
              "    }\n",
              "\n",
              "    .dataframe thead th {\n",
              "        text-align: right;\n",
              "    }\n",
              "</style>\n",
              "<table border=\"1\" class=\"dataframe\">\n",
              "  <thead>\n",
              "    <tr style=\"text-align: right;\">\n",
              "      <th></th>\n",
              "      <th>Unnamed: 0</th>\n",
              "      <th>Datetime</th>\n",
              "      <th>Tweet Id</th>\n",
              "      <th>Text</th>\n",
              "      <th>Username</th>\n",
              "      <th>Verified</th>\n",
              "      <th>Followers Count</th>\n",
              "      <th>Friends Count</th>\n",
              "      <th>Like Count</th>\n",
              "      <th>Retweet Count</th>\n",
              "      <th>Quote Count</th>\n",
              "      <th>Created</th>\n",
              "      <th>Location</th>\n",
              "      <th>Display Name</th>\n",
              "      <th>Language</th>\n",
              "      <th>Coordinates</th>\n",
              "      <th>Place</th>\n",
              "    </tr>\n",
              "  </thead>\n",
              "  <tbody>\n",
              "    <tr>\n",
              "      <th>0</th>\n",
              "      <td>0</td>\n",
              "      <td>2021-05-23 23:59:57+00:00</td>\n",
              "      <td>1396616924499529730</td>\n",
              "      <td>if we're going to mock people who report side ...</td>\n",
              "      <td>shawna_burley</td>\n",
              "      <td>False</td>\n",
              "      <td>5387.0</td>\n",
              "      <td>1957.0</td>\n",
              "      <td>29</td>\n",
              "      <td>4</td>\n",
              "      <td>1</td>\n",
              "      <td>2016-07-29 02:58:29+00:00</td>\n",
              "      <td>Oklahoma, USA</td>\n",
              "      <td>Shawna Burley 🌺</td>\n",
              "      <td>en</td>\n",
              "      <td>NaN</td>\n",
              "      <td>NaN</td>\n",
              "    </tr>\n",
              "    <tr>\n",
              "      <th>1</th>\n",
              "      <td>1</td>\n",
              "      <td>2021-05-23 23:59:38+00:00</td>\n",
              "      <td>1396616844442697731</td>\n",
              "      <td>virgin's richard branson urges australians to ...</td>\n",
              "      <td>BabushkaThe</td>\n",
              "      <td>False</td>\n",
              "      <td>645.0</td>\n",
              "      <td>4602.0</td>\n",
              "      <td>0</td>\n",
              "      <td>0</td>\n",
              "      <td>0</td>\n",
              "      <td>2016-02-03 21:31:35+00:00</td>\n",
              "      <td>Anglosphere</td>\n",
              "      <td>☀️TheRealBabushka ☀️</td>\n",
              "      <td>en</td>\n",
              "      <td>NaN</td>\n",
              "      <td>NaN</td>\n",
              "    </tr>\n",
              "    <tr>\n",
              "      <th>3</th>\n",
              "      <td>3</td>\n",
              "      <td>2021-05-23 23:59:08+00:00</td>\n",
              "      <td>1396616721541259265</td>\n",
              "      <td>#palestinians can't even get a #covidvaccine o...</td>\n",
              "      <td>SilverForest155</td>\n",
              "      <td>False</td>\n",
              "      <td>1284.0</td>\n",
              "      <td>1406.0</td>\n",
              "      <td>0</td>\n",
              "      <td>1</td>\n",
              "      <td>0</td>\n",
              "      <td>2021-03-29 13:59:25+00:00</td>\n",
              "      <td>NaN</td>\n",
              "      <td>Silver Forest</td>\n",
              "      <td>en</td>\n",
              "      <td>NaN</td>\n",
              "      <td>NaN</td>\n",
              "    </tr>\n",
              "    <tr>\n",
              "      <th>4</th>\n",
              "      <td>4</td>\n",
              "      <td>2021-05-23 23:59:06+00:00</td>\n",
              "      <td>1396616712540233731</td>\n",
              "      <td>@peterhotez the percentage of adults in canada...</td>\n",
              "      <td>LloydOsten</td>\n",
              "      <td>False</td>\n",
              "      <td>412.0</td>\n",
              "      <td>285.0</td>\n",
              "      <td>0</td>\n",
              "      <td>0</td>\n",
              "      <td>0</td>\n",
              "      <td>2015-09-27 12:24:55+00:00</td>\n",
              "      <td>NaN</td>\n",
              "      <td>Lloyd Osten</td>\n",
              "      <td>en</td>\n",
              "      <td>NaN</td>\n",
              "      <td>NaN</td>\n",
              "    </tr>\n",
              "    <tr>\n",
              "      <th>5</th>\n",
              "      <td>5</td>\n",
              "      <td>2021-05-23 23:58:13+00:00</td>\n",
              "      <td>1396616486903599115</td>\n",
              "      <td>is it bad to wait until the fda approves the c...</td>\n",
              "      <td>juhnesuh</td>\n",
              "      <td>False</td>\n",
              "      <td>2448.0</td>\n",
              "      <td>2124.0</td>\n",
              "      <td>0</td>\n",
              "      <td>0</td>\n",
              "      <td>0</td>\n",
              "      <td>2011-06-20 02:00:40+00:00</td>\n",
              "      <td>NaN</td>\n",
              "      <td>paragon</td>\n",
              "      <td>en</td>\n",
              "      <td>NaN</td>\n",
              "      <td>NaN</td>\n",
              "    </tr>\n",
              "  </tbody>\n",
              "</table>\n",
              "</div>"
            ],
            "text/plain": [
              "  Unnamed: 0                   Datetime  ... Coordinates Place\n",
              "0          0  2021-05-23 23:59:57+00:00  ...         NaN   NaN\n",
              "1          1  2021-05-23 23:59:38+00:00  ...         NaN   NaN\n",
              "3          3  2021-05-23 23:59:08+00:00  ...         NaN   NaN\n",
              "4          4  2021-05-23 23:59:06+00:00  ...         NaN   NaN\n",
              "5          5  2021-05-23 23:58:13+00:00  ...         NaN   NaN\n",
              "\n",
              "[5 rows x 17 columns]"
            ]
          },
          "metadata": {
            "tags": []
          },
          "execution_count": 28
        }
      ]
    },
    {
      "cell_type": "code",
      "metadata": {
        "id": "9DRVg6nLPg03"
      },
      "source": [
        "Tweets_May['Text_No_Usernames'] = Tweets_May['Text'].str.replace('@\\w+', '')"
      ],
      "execution_count": null,
      "outputs": []
    },
    {
      "cell_type": "code",
      "metadata": {
        "id": "d8roNT7eQK7d"
      },
      "source": [
        "Tweets_May['Text_No_Links'] = Tweets_May['Text_No_Usernames'].str.replace(\"http\\S+\", \"\")"
      ],
      "execution_count": null,
      "outputs": []
    },
    {
      "cell_type": "code",
      "metadata": {
        "id": "qMwUUwacOngt"
      },
      "source": [
        "Tweets_May['Text_Punc']= Tweets_May['Text_No_Links'].str.replace('[^\\w\\s]','')"
      ],
      "execution_count": null,
      "outputs": []
    },
    {
      "cell_type": "code",
      "metadata": {
        "colab": {
          "base_uri": "https://localhost:8080/",
          "height": 581
        },
        "id": "sCmJiClYO7ev",
        "outputId": "414fd70c-1a0a-4c8d-85e9-519533d04488"
      },
      "source": [
        "Tweets_May.head()"
      ],
      "execution_count": null,
      "outputs": [
        {
          "output_type": "execute_result",
          "data": {
            "text/html": [
              "<div>\n",
              "<style scoped>\n",
              "    .dataframe tbody tr th:only-of-type {\n",
              "        vertical-align: middle;\n",
              "    }\n",
              "\n",
              "    .dataframe tbody tr th {\n",
              "        vertical-align: top;\n",
              "    }\n",
              "\n",
              "    .dataframe thead th {\n",
              "        text-align: right;\n",
              "    }\n",
              "</style>\n",
              "<table border=\"1\" class=\"dataframe\">\n",
              "  <thead>\n",
              "    <tr style=\"text-align: right;\">\n",
              "      <th></th>\n",
              "      <th>Unnamed: 0</th>\n",
              "      <th>Datetime</th>\n",
              "      <th>Tweet Id</th>\n",
              "      <th>Text</th>\n",
              "      <th>Username</th>\n",
              "      <th>Verified</th>\n",
              "      <th>Followers Count</th>\n",
              "      <th>Friends Count</th>\n",
              "      <th>Like Count</th>\n",
              "      <th>Retweet Count</th>\n",
              "      <th>Quote Count</th>\n",
              "      <th>Created</th>\n",
              "      <th>Location</th>\n",
              "      <th>Display Name</th>\n",
              "      <th>Language</th>\n",
              "      <th>Coordinates</th>\n",
              "      <th>Place</th>\n",
              "      <th>Text_No_Usernames</th>\n",
              "      <th>Text_No_Links</th>\n",
              "      <th>Text_Punc</th>\n",
              "    </tr>\n",
              "  </thead>\n",
              "  <tbody>\n",
              "    <tr>\n",
              "      <th>0</th>\n",
              "      <td>0</td>\n",
              "      <td>2021-05-23 23:59:57+00:00</td>\n",
              "      <td>1396616924499529730</td>\n",
              "      <td>if we're going to mock people who report side ...</td>\n",
              "      <td>shawna_burley</td>\n",
              "      <td>False</td>\n",
              "      <td>5387.0</td>\n",
              "      <td>1957.0</td>\n",
              "      <td>29</td>\n",
              "      <td>4</td>\n",
              "      <td>1</td>\n",
              "      <td>2016-07-29 02:58:29+00:00</td>\n",
              "      <td>Oklahoma, USA</td>\n",
              "      <td>Shawna Burley 🌺</td>\n",
              "      <td>en</td>\n",
              "      <td>NaN</td>\n",
              "      <td>NaN</td>\n",
              "      <td>if we're going to mock people who report side ...</td>\n",
              "      <td>if we're going to mock people who report side ...</td>\n",
              "      <td>if were going to mock people who report side e...</td>\n",
              "    </tr>\n",
              "    <tr>\n",
              "      <th>1</th>\n",
              "      <td>1</td>\n",
              "      <td>2021-05-23 23:59:38+00:00</td>\n",
              "      <td>1396616844442697731</td>\n",
              "      <td>virgin's richard branson urges australians to ...</td>\n",
              "      <td>BabushkaThe</td>\n",
              "      <td>False</td>\n",
              "      <td>645.0</td>\n",
              "      <td>4602.0</td>\n",
              "      <td>0</td>\n",
              "      <td>0</td>\n",
              "      <td>0</td>\n",
              "      <td>2016-02-03 21:31:35+00:00</td>\n",
              "      <td>Anglosphere</td>\n",
              "      <td>☀️TheRealBabushka ☀️</td>\n",
              "      <td>en</td>\n",
              "      <td>NaN</td>\n",
              "      <td>NaN</td>\n",
              "      <td>virgin's richard branson urges australians to ...</td>\n",
              "      <td>virgin's richard branson urges australians to ...</td>\n",
              "      <td>virgins richard branson urges australians to g...</td>\n",
              "    </tr>\n",
              "    <tr>\n",
              "      <th>3</th>\n",
              "      <td>3</td>\n",
              "      <td>2021-05-23 23:59:08+00:00</td>\n",
              "      <td>1396616721541259265</td>\n",
              "      <td>#palestinians can't even get a #covidvaccine o...</td>\n",
              "      <td>SilverForest155</td>\n",
              "      <td>False</td>\n",
              "      <td>1284.0</td>\n",
              "      <td>1406.0</td>\n",
              "      <td>0</td>\n",
              "      <td>1</td>\n",
              "      <td>0</td>\n",
              "      <td>2021-03-29 13:59:25+00:00</td>\n",
              "      <td>NaN</td>\n",
              "      <td>Silver Forest</td>\n",
              "      <td>en</td>\n",
              "      <td>NaN</td>\n",
              "      <td>NaN</td>\n",
              "      <td>#palestinians can't even get a #covidvaccine o...</td>\n",
              "      <td>#palestinians can't even get a #covidvaccine o...</td>\n",
              "      <td>palestinians cant even get a covidvaccine or e...</td>\n",
              "    </tr>\n",
              "    <tr>\n",
              "      <th>4</th>\n",
              "      <td>4</td>\n",
              "      <td>2021-05-23 23:59:06+00:00</td>\n",
              "      <td>1396616712540233731</td>\n",
              "      <td>@peterhotez the percentage of adults in canada...</td>\n",
              "      <td>LloydOsten</td>\n",
              "      <td>False</td>\n",
              "      <td>412.0</td>\n",
              "      <td>285.0</td>\n",
              "      <td>0</td>\n",
              "      <td>0</td>\n",
              "      <td>0</td>\n",
              "      <td>2015-09-27 12:24:55+00:00</td>\n",
              "      <td>NaN</td>\n",
              "      <td>Lloyd Osten</td>\n",
              "      <td>en</td>\n",
              "      <td>NaN</td>\n",
              "      <td>NaN</td>\n",
              "      <td>the percentage of adults in canada who have r...</td>\n",
              "      <td>the percentage of adults in canada who have r...</td>\n",
              "      <td>the percentage of adults in canada who have r...</td>\n",
              "    </tr>\n",
              "    <tr>\n",
              "      <th>5</th>\n",
              "      <td>5</td>\n",
              "      <td>2021-05-23 23:58:13+00:00</td>\n",
              "      <td>1396616486903599115</td>\n",
              "      <td>is it bad to wait until the fda approves the c...</td>\n",
              "      <td>juhnesuh</td>\n",
              "      <td>False</td>\n",
              "      <td>2448.0</td>\n",
              "      <td>2124.0</td>\n",
              "      <td>0</td>\n",
              "      <td>0</td>\n",
              "      <td>0</td>\n",
              "      <td>2011-06-20 02:00:40+00:00</td>\n",
              "      <td>NaN</td>\n",
              "      <td>paragon</td>\n",
              "      <td>en</td>\n",
              "      <td>NaN</td>\n",
              "      <td>NaN</td>\n",
              "      <td>is it bad to wait until the fda approves the c...</td>\n",
              "      <td>is it bad to wait until the fda approves the c...</td>\n",
              "      <td>is it bad to wait until the fda approves the c...</td>\n",
              "    </tr>\n",
              "  </tbody>\n",
              "</table>\n",
              "</div>"
            ],
            "text/plain": [
              "  Unnamed: 0  ...                                          Text_Punc\n",
              "0          0  ...  if were going to mock people who report side e...\n",
              "1          1  ...  virgins richard branson urges australians to g...\n",
              "3          3  ...  palestinians cant even get a covidvaccine or e...\n",
              "4          4  ...   the percentage of adults in canada who have r...\n",
              "5          5  ...  is it bad to wait until the fda approves the c...\n",
              "\n",
              "[5 rows x 20 columns]"
            ]
          },
          "metadata": {
            "tags": []
          },
          "execution_count": 32
        }
      ]
    },
    {
      "cell_type": "code",
      "metadata": {
        "colab": {
          "base_uri": "https://localhost:8080/",
          "height": 632
        },
        "id": "iFBjHsy6O84A",
        "outputId": "308b2b8a-13f8-4956-e023-8877b4245fb8"
      },
      "source": [
        "import nltk\n",
        "from nltk.corpus import stopwords\n",
        "nltk.download('stopwords')\n",
        "stop = stopwords.words('english')\n",
        "#stop.append(\"covid vaccine\")\n",
        "#stop.append(\"covid19 vaccine\")\n",
        "Tweets_May['Text_Stop']  = Tweets_May['Text_Punc'] .apply(lambda x: \" \".join(x for x in x.split() if x not in stop))\n",
        "Tweets_May.head()"
      ],
      "execution_count": null,
      "outputs": [
        {
          "output_type": "stream",
          "text": [
            "[nltk_data] Downloading package stopwords to /root/nltk_data...\n",
            "[nltk_data]   Unzipping corpora/stopwords.zip.\n"
          ],
          "name": "stdout"
        },
        {
          "output_type": "execute_result",
          "data": {
            "text/html": [
              "<div>\n",
              "<style scoped>\n",
              "    .dataframe tbody tr th:only-of-type {\n",
              "        vertical-align: middle;\n",
              "    }\n",
              "\n",
              "    .dataframe tbody tr th {\n",
              "        vertical-align: top;\n",
              "    }\n",
              "\n",
              "    .dataframe thead th {\n",
              "        text-align: right;\n",
              "    }\n",
              "</style>\n",
              "<table border=\"1\" class=\"dataframe\">\n",
              "  <thead>\n",
              "    <tr style=\"text-align: right;\">\n",
              "      <th></th>\n",
              "      <th>Unnamed: 0</th>\n",
              "      <th>Datetime</th>\n",
              "      <th>Tweet Id</th>\n",
              "      <th>Text</th>\n",
              "      <th>Username</th>\n",
              "      <th>Verified</th>\n",
              "      <th>Followers Count</th>\n",
              "      <th>Friends Count</th>\n",
              "      <th>Like Count</th>\n",
              "      <th>Retweet Count</th>\n",
              "      <th>Quote Count</th>\n",
              "      <th>Created</th>\n",
              "      <th>Location</th>\n",
              "      <th>Display Name</th>\n",
              "      <th>Language</th>\n",
              "      <th>Coordinates</th>\n",
              "      <th>Place</th>\n",
              "      <th>Text_No_Usernames</th>\n",
              "      <th>Text_No_Links</th>\n",
              "      <th>Text_Punc</th>\n",
              "      <th>Text_Stop</th>\n",
              "    </tr>\n",
              "  </thead>\n",
              "  <tbody>\n",
              "    <tr>\n",
              "      <th>0</th>\n",
              "      <td>0</td>\n",
              "      <td>2021-05-23 23:59:57+00:00</td>\n",
              "      <td>1396616924499529730</td>\n",
              "      <td>if we're going to mock people who report side ...</td>\n",
              "      <td>shawna_burley</td>\n",
              "      <td>False</td>\n",
              "      <td>5387.0</td>\n",
              "      <td>1957.0</td>\n",
              "      <td>29</td>\n",
              "      <td>4</td>\n",
              "      <td>1</td>\n",
              "      <td>2016-07-29 02:58:29+00:00</td>\n",
              "      <td>Oklahoma, USA</td>\n",
              "      <td>Shawna Burley 🌺</td>\n",
              "      <td>en</td>\n",
              "      <td>NaN</td>\n",
              "      <td>NaN</td>\n",
              "      <td>if we're going to mock people who report side ...</td>\n",
              "      <td>if we're going to mock people who report side ...</td>\n",
              "      <td>if were going to mock people who report side e...</td>\n",
              "      <td>going mock people report side effects result c...</td>\n",
              "    </tr>\n",
              "    <tr>\n",
              "      <th>1</th>\n",
              "      <td>1</td>\n",
              "      <td>2021-05-23 23:59:38+00:00</td>\n",
              "      <td>1396616844442697731</td>\n",
              "      <td>virgin's richard branson urges australians to ...</td>\n",
              "      <td>BabushkaThe</td>\n",
              "      <td>False</td>\n",
              "      <td>645.0</td>\n",
              "      <td>4602.0</td>\n",
              "      <td>0</td>\n",
              "      <td>0</td>\n",
              "      <td>0</td>\n",
              "      <td>2016-02-03 21:31:35+00:00</td>\n",
              "      <td>Anglosphere</td>\n",
              "      <td>☀️TheRealBabushka ☀️</td>\n",
              "      <td>en</td>\n",
              "      <td>NaN</td>\n",
              "      <td>NaN</td>\n",
              "      <td>virgin's richard branson urges australians to ...</td>\n",
              "      <td>virgin's richard branson urges australians to ...</td>\n",
              "      <td>virgins richard branson urges australians to g...</td>\n",
              "      <td>virgins richard branson urges australians get ...</td>\n",
              "    </tr>\n",
              "    <tr>\n",
              "      <th>3</th>\n",
              "      <td>3</td>\n",
              "      <td>2021-05-23 23:59:08+00:00</td>\n",
              "      <td>1396616721541259265</td>\n",
              "      <td>#palestinians can't even get a #covidvaccine o...</td>\n",
              "      <td>SilverForest155</td>\n",
              "      <td>False</td>\n",
              "      <td>1284.0</td>\n",
              "      <td>1406.0</td>\n",
              "      <td>0</td>\n",
              "      <td>1</td>\n",
              "      <td>0</td>\n",
              "      <td>2021-03-29 13:59:25+00:00</td>\n",
              "      <td>NaN</td>\n",
              "      <td>Silver Forest</td>\n",
              "      <td>en</td>\n",
              "      <td>NaN</td>\n",
              "      <td>NaN</td>\n",
              "      <td>#palestinians can't even get a #covidvaccine o...</td>\n",
              "      <td>#palestinians can't even get a #covidvaccine o...</td>\n",
              "      <td>palestinians cant even get a covidvaccine or e...</td>\n",
              "      <td>palestinians cant even get covidvaccine even t...</td>\n",
              "    </tr>\n",
              "    <tr>\n",
              "      <th>4</th>\n",
              "      <td>4</td>\n",
              "      <td>2021-05-23 23:59:06+00:00</td>\n",
              "      <td>1396616712540233731</td>\n",
              "      <td>@peterhotez the percentage of adults in canada...</td>\n",
              "      <td>LloydOsten</td>\n",
              "      <td>False</td>\n",
              "      <td>412.0</td>\n",
              "      <td>285.0</td>\n",
              "      <td>0</td>\n",
              "      <td>0</td>\n",
              "      <td>0</td>\n",
              "      <td>2015-09-27 12:24:55+00:00</td>\n",
              "      <td>NaN</td>\n",
              "      <td>Lloyd Osten</td>\n",
              "      <td>en</td>\n",
              "      <td>NaN</td>\n",
              "      <td>NaN</td>\n",
              "      <td>the percentage of adults in canada who have r...</td>\n",
              "      <td>the percentage of adults in canada who have r...</td>\n",
              "      <td>the percentage of adults in canada who have r...</td>\n",
              "      <td>percentage adults canada received one dose cov...</td>\n",
              "    </tr>\n",
              "    <tr>\n",
              "      <th>5</th>\n",
              "      <td>5</td>\n",
              "      <td>2021-05-23 23:58:13+00:00</td>\n",
              "      <td>1396616486903599115</td>\n",
              "      <td>is it bad to wait until the fda approves the c...</td>\n",
              "      <td>juhnesuh</td>\n",
              "      <td>False</td>\n",
              "      <td>2448.0</td>\n",
              "      <td>2124.0</td>\n",
              "      <td>0</td>\n",
              "      <td>0</td>\n",
              "      <td>0</td>\n",
              "      <td>2011-06-20 02:00:40+00:00</td>\n",
              "      <td>NaN</td>\n",
              "      <td>paragon</td>\n",
              "      <td>en</td>\n",
              "      <td>NaN</td>\n",
              "      <td>NaN</td>\n",
              "      <td>is it bad to wait until the fda approves the c...</td>\n",
              "      <td>is it bad to wait until the fda approves the c...</td>\n",
              "      <td>is it bad to wait until the fda approves the c...</td>\n",
              "      <td>bad wait fda approves covid vaccine get cause ...</td>\n",
              "    </tr>\n",
              "  </tbody>\n",
              "</table>\n",
              "</div>"
            ],
            "text/plain": [
              "  Unnamed: 0  ...                                          Text_Stop\n",
              "0          0  ...  going mock people report side effects result c...\n",
              "1          1  ...  virgins richard branson urges australians get ...\n",
              "3          3  ...  palestinians cant even get covidvaccine even t...\n",
              "4          4  ...  percentage adults canada received one dose cov...\n",
              "5          5  ...  bad wait fda approves covid vaccine get cause ...\n",
              "\n",
              "[5 rows x 21 columns]"
            ]
          },
          "metadata": {
            "tags": []
          },
          "execution_count": 33
        }
      ]
    },
    {
      "cell_type": "code",
      "metadata": {
        "colab": {
          "base_uri": "https://localhost:8080/",
          "height": 634
        },
        "id": "-JOV4dwFPIwN",
        "outputId": "7041e17d-1394-4ce2-ec0b-74a0ef3b281d"
      },
      "source": [
        "import textblob           \n",
        "from textblob import TextBlob\n",
        "def tokenization(text):\n",
        "    text = re.split('\\W+', text)\n",
        "    return text\n",
        "Tweets_May['Text_Tokenized'] = Tweets_May['Text_Stop'].apply(lambda x: tokenization(x.lower()))\n",
        "Tweets_May[['Text', 'Text_No_Usernames','Text_No_Links','Text_Punc', 'Text_Stop', 'Text_Tokenized']][0:9]"
      ],
      "execution_count": null,
      "outputs": [
        {
          "output_type": "execute_result",
          "data": {
            "text/html": [
              "<div>\n",
              "<style scoped>\n",
              "    .dataframe tbody tr th:only-of-type {\n",
              "        vertical-align: middle;\n",
              "    }\n",
              "\n",
              "    .dataframe tbody tr th {\n",
              "        vertical-align: top;\n",
              "    }\n",
              "\n",
              "    .dataframe thead th {\n",
              "        text-align: right;\n",
              "    }\n",
              "</style>\n",
              "<table border=\"1\" class=\"dataframe\">\n",
              "  <thead>\n",
              "    <tr style=\"text-align: right;\">\n",
              "      <th></th>\n",
              "      <th>Text</th>\n",
              "      <th>Text_No_Usernames</th>\n",
              "      <th>Text_No_Links</th>\n",
              "      <th>Text_Punc</th>\n",
              "      <th>Text_Stop</th>\n",
              "      <th>Text_Tokenized</th>\n",
              "    </tr>\n",
              "  </thead>\n",
              "  <tbody>\n",
              "    <tr>\n",
              "      <th>0</th>\n",
              "      <td>if we're going to mock people who report side ...</td>\n",
              "      <td>if we're going to mock people who report side ...</td>\n",
              "      <td>if we're going to mock people who report side ...</td>\n",
              "      <td>if were going to mock people who report side e...</td>\n",
              "      <td>going mock people report side effects result c...</td>\n",
              "      <td>[going, mock, people, report, side, effects, r...</td>\n",
              "    </tr>\n",
              "    <tr>\n",
              "      <th>1</th>\n",
              "      <td>virgin's richard branson urges australians to ...</td>\n",
              "      <td>virgin's richard branson urges australians to ...</td>\n",
              "      <td>virgin's richard branson urges australians to ...</td>\n",
              "      <td>virgins richard branson urges australians to g...</td>\n",
              "      <td>virgins richard branson urges australians get ...</td>\n",
              "      <td>[virgins, richard, branson, urges, australians...</td>\n",
              "    </tr>\n",
              "    <tr>\n",
              "      <th>3</th>\n",
              "      <td>#palestinians can't even get a #covidvaccine o...</td>\n",
              "      <td>#palestinians can't even get a #covidvaccine o...</td>\n",
              "      <td>#palestinians can't even get a #covidvaccine o...</td>\n",
              "      <td>palestinians cant even get a covidvaccine or e...</td>\n",
              "      <td>palestinians cant even get covidvaccine even t...</td>\n",
              "      <td>[palestinians, cant, even, get, covidvaccine, ...</td>\n",
              "    </tr>\n",
              "    <tr>\n",
              "      <th>4</th>\n",
              "      <td>@peterhotez the percentage of adults in canada...</td>\n",
              "      <td>the percentage of adults in canada who have r...</td>\n",
              "      <td>the percentage of adults in canada who have r...</td>\n",
              "      <td>the percentage of adults in canada who have r...</td>\n",
              "      <td>percentage adults canada received one dose cov...</td>\n",
              "      <td>[percentage, adults, canada, received, one, do...</td>\n",
              "    </tr>\n",
              "    <tr>\n",
              "      <th>5</th>\n",
              "      <td>is it bad to wait until the fda approves the c...</td>\n",
              "      <td>is it bad to wait until the fda approves the c...</td>\n",
              "      <td>is it bad to wait until the fda approves the c...</td>\n",
              "      <td>is it bad to wait until the fda approves the c...</td>\n",
              "      <td>bad wait fda approves covid vaccine get cause ...</td>\n",
              "      <td>[bad, wait, fda, approves, covid, vaccine, get...</td>\n",
              "    </tr>\n",
              "    <tr>\n",
              "      <th>6</th>\n",
              "      <td>@vvrabbi @choccymilk1234 @thehill natural immu...</td>\n",
              "      <td>natural immunity may help vs variants, but ...</td>\n",
              "      <td>natural immunity may help vs variants, but ...</td>\n",
              "      <td>natural immunity may help vs variants but i...</td>\n",
              "      <td>natural immunity may help vs variants likely e...</td>\n",
              "      <td>[natural, immunity, may, help, vs, variants, l...</td>\n",
              "    </tr>\n",
              "    <tr>\n",
              "      <th>7</th>\n",
              "      <td>you’ll never get the “covid vaccine” in this a...</td>\n",
              "      <td>you’ll never get the “covid vaccine” in this a...</td>\n",
              "      <td>you’ll never get the “covid vaccine” in this a...</td>\n",
              "      <td>youll never get the covid vaccine in this arm ...</td>\n",
              "      <td>youll never get covid vaccine arm fucking liberal</td>\n",
              "      <td>[youll, never, get, covid, vaccine, arm, fucki...</td>\n",
              "    </tr>\n",
              "    <tr>\n",
              "      <th>8</th>\n",
              "      <td>@profpcdoherty i have a colleague who caught c...</td>\n",
              "      <td>i have a colleague who caught covid overseas....</td>\n",
              "      <td>i have a colleague who caught covid overseas....</td>\n",
              "      <td>i have a colleague who caught covid overseas ...</td>\n",
              "      <td>colleague caught covid overseas bad reaction c...</td>\n",
              "      <td>[colleague, caught, covid, overseas, bad, reac...</td>\n",
              "    </tr>\n",
              "    <tr>\n",
              "      <th>9</th>\n",
              "      <td>getting vaccinated is the best way to protect ...</td>\n",
              "      <td>getting vaccinated is the best way to protect ...</td>\n",
              "      <td>getting vaccinated is the best way to protect ...</td>\n",
              "      <td>getting vaccinated is the best way to protect ...</td>\n",
              "      <td>getting vaccinated best way protect loved ones...</td>\n",
              "      <td>[getting, vaccinated, best, way, protect, love...</td>\n",
              "    </tr>\n",
              "  </tbody>\n",
              "</table>\n",
              "</div>"
            ],
            "text/plain": [
              "                                                Text  ...                                     Text_Tokenized\n",
              "0  if we're going to mock people who report side ...  ...  [going, mock, people, report, side, effects, r...\n",
              "1  virgin's richard branson urges australians to ...  ...  [virgins, richard, branson, urges, australians...\n",
              "3  #palestinians can't even get a #covidvaccine o...  ...  [palestinians, cant, even, get, covidvaccine, ...\n",
              "4  @peterhotez the percentage of adults in canada...  ...  [percentage, adults, canada, received, one, do...\n",
              "5  is it bad to wait until the fda approves the c...  ...  [bad, wait, fda, approves, covid, vaccine, get...\n",
              "6  @vvrabbi @choccymilk1234 @thehill natural immu...  ...  [natural, immunity, may, help, vs, variants, l...\n",
              "7  you’ll never get the “covid vaccine” in this a...  ...  [youll, never, get, covid, vaccine, arm, fucki...\n",
              "8  @profpcdoherty i have a colleague who caught c...  ...  [colleague, caught, covid, overseas, bad, reac...\n",
              "9  getting vaccinated is the best way to protect ...  ...  [getting, vaccinated, best, way, protect, love...\n",
              "\n",
              "[9 rows x 6 columns]"
            ]
          },
          "metadata": {
            "tags": []
          },
          "execution_count": 34
        }
      ]
    },
    {
      "cell_type": "code",
      "metadata": {
        "colab": {
          "base_uri": "https://localhost:8080/",
          "height": 804
        },
        "id": "9_fFwMvnPYGo",
        "outputId": "ed571cc7-de97-4b14-95f8-3821e90fcecf"
      },
      "source": [
        "import nltk\n",
        "nltk.download('wordnet')\n",
        "wn = nltk.WordNetLemmatizer()\n",
        "def lemmatizer(text):\n",
        "    text = [wn.lemmatize(word) for word in text]\n",
        "    return text\n",
        "\n",
        "Tweets_May['Text_Lemmatized'] = Tweets_May['Text_Tokenized'].apply(lambda x: lemmatizer(x))\n",
        "Tweets_May[['Text', 'Text_No_Usernames','Text_No_Links','Text_Punc', 'Text_Tokenized','Text_Stop','Text_Lemmatized']][0:9]"
      ],
      "execution_count": null,
      "outputs": [
        {
          "output_type": "stream",
          "text": [
            "[nltk_data] Downloading package wordnet to /root/nltk_data...\n",
            "[nltk_data]   Unzipping corpora/wordnet.zip.\n"
          ],
          "name": "stdout"
        },
        {
          "output_type": "execute_result",
          "data": {
            "text/html": [
              "<div>\n",
              "<style scoped>\n",
              "    .dataframe tbody tr th:only-of-type {\n",
              "        vertical-align: middle;\n",
              "    }\n",
              "\n",
              "    .dataframe tbody tr th {\n",
              "        vertical-align: top;\n",
              "    }\n",
              "\n",
              "    .dataframe thead th {\n",
              "        text-align: right;\n",
              "    }\n",
              "</style>\n",
              "<table border=\"1\" class=\"dataframe\">\n",
              "  <thead>\n",
              "    <tr style=\"text-align: right;\">\n",
              "      <th></th>\n",
              "      <th>Text</th>\n",
              "      <th>Text_No_Usernames</th>\n",
              "      <th>Text_No_Links</th>\n",
              "      <th>Text_Punc</th>\n",
              "      <th>Text_Tokenized</th>\n",
              "      <th>Text_Stop</th>\n",
              "      <th>Text_Lemmatized</th>\n",
              "    </tr>\n",
              "  </thead>\n",
              "  <tbody>\n",
              "    <tr>\n",
              "      <th>0</th>\n",
              "      <td>if we're going to mock people who report side ...</td>\n",
              "      <td>if we're going to mock people who report side ...</td>\n",
              "      <td>if we're going to mock people who report side ...</td>\n",
              "      <td>if were going to mock people who report side e...</td>\n",
              "      <td>[going, mock, people, report, side, effects, r...</td>\n",
              "      <td>going mock people report side effects result c...</td>\n",
              "      <td>[going, mock, people, report, side, effect, re...</td>\n",
              "    </tr>\n",
              "    <tr>\n",
              "      <th>1</th>\n",
              "      <td>virgin's richard branson urges australians to ...</td>\n",
              "      <td>virgin's richard branson urges australians to ...</td>\n",
              "      <td>virgin's richard branson urges australians to ...</td>\n",
              "      <td>virgins richard branson urges australians to g...</td>\n",
              "      <td>[virgins, richard, branson, urges, australians...</td>\n",
              "      <td>virgins richard branson urges australians get ...</td>\n",
              "      <td>[virgin, richard, branson, urge, australian, g...</td>\n",
              "    </tr>\n",
              "    <tr>\n",
              "      <th>3</th>\n",
              "      <td>#palestinians can't even get a #covidvaccine o...</td>\n",
              "      <td>#palestinians can't even get a #covidvaccine o...</td>\n",
              "      <td>#palestinians can't even get a #covidvaccine o...</td>\n",
              "      <td>palestinians cant even get a covidvaccine or e...</td>\n",
              "      <td>[palestinians, cant, even, get, covidvaccine, ...</td>\n",
              "      <td>palestinians cant even get covidvaccine even t...</td>\n",
              "      <td>[palestinian, cant, even, get, covidvaccine, e...</td>\n",
              "    </tr>\n",
              "    <tr>\n",
              "      <th>4</th>\n",
              "      <td>@peterhotez the percentage of adults in canada...</td>\n",
              "      <td>the percentage of adults in canada who have r...</td>\n",
              "      <td>the percentage of adults in canada who have r...</td>\n",
              "      <td>the percentage of adults in canada who have r...</td>\n",
              "      <td>[percentage, adults, canada, received, one, do...</td>\n",
              "      <td>percentage adults canada received one dose cov...</td>\n",
              "      <td>[percentage, adult, canada, received, one, dos...</td>\n",
              "    </tr>\n",
              "    <tr>\n",
              "      <th>5</th>\n",
              "      <td>is it bad to wait until the fda approves the c...</td>\n",
              "      <td>is it bad to wait until the fda approves the c...</td>\n",
              "      <td>is it bad to wait until the fda approves the c...</td>\n",
              "      <td>is it bad to wait until the fda approves the c...</td>\n",
              "      <td>[bad, wait, fda, approves, covid, vaccine, get...</td>\n",
              "      <td>bad wait fda approves covid vaccine get cause ...</td>\n",
              "      <td>[bad, wait, fda, approves, covid, vaccine, get...</td>\n",
              "    </tr>\n",
              "    <tr>\n",
              "      <th>6</th>\n",
              "      <td>@vvrabbi @choccymilk1234 @thehill natural immu...</td>\n",
              "      <td>natural immunity may help vs variants, but ...</td>\n",
              "      <td>natural immunity may help vs variants, but ...</td>\n",
              "      <td>natural immunity may help vs variants but i...</td>\n",
              "      <td>[natural, immunity, may, help, vs, variants, l...</td>\n",
              "      <td>natural immunity may help vs variants likely e...</td>\n",
              "      <td>[natural, immunity, may, help, v, variant, lik...</td>\n",
              "    </tr>\n",
              "    <tr>\n",
              "      <th>7</th>\n",
              "      <td>you’ll never get the “covid vaccine” in this a...</td>\n",
              "      <td>you’ll never get the “covid vaccine” in this a...</td>\n",
              "      <td>you’ll never get the “covid vaccine” in this a...</td>\n",
              "      <td>youll never get the covid vaccine in this arm ...</td>\n",
              "      <td>[youll, never, get, covid, vaccine, arm, fucki...</td>\n",
              "      <td>youll never get covid vaccine arm fucking liberal</td>\n",
              "      <td>[youll, never, get, covid, vaccine, arm, fucki...</td>\n",
              "    </tr>\n",
              "    <tr>\n",
              "      <th>8</th>\n",
              "      <td>@profpcdoherty i have a colleague who caught c...</td>\n",
              "      <td>i have a colleague who caught covid overseas....</td>\n",
              "      <td>i have a colleague who caught covid overseas....</td>\n",
              "      <td>i have a colleague who caught covid overseas ...</td>\n",
              "      <td>[colleague, caught, covid, overseas, bad, reac...</td>\n",
              "      <td>colleague caught covid overseas bad reaction c...</td>\n",
              "      <td>[colleague, caught, covid, overseas, bad, reac...</td>\n",
              "    </tr>\n",
              "    <tr>\n",
              "      <th>9</th>\n",
              "      <td>getting vaccinated is the best way to protect ...</td>\n",
              "      <td>getting vaccinated is the best way to protect ...</td>\n",
              "      <td>getting vaccinated is the best way to protect ...</td>\n",
              "      <td>getting vaccinated is the best way to protect ...</td>\n",
              "      <td>[getting, vaccinated, best, way, protect, love...</td>\n",
              "      <td>getting vaccinated best way protect loved ones...</td>\n",
              "      <td>[getting, vaccinated, best, way, protect, love...</td>\n",
              "    </tr>\n",
              "  </tbody>\n",
              "</table>\n",
              "</div>"
            ],
            "text/plain": [
              "                                                Text  ...                                    Text_Lemmatized\n",
              "0  if we're going to mock people who report side ...  ...  [going, mock, people, report, side, effect, re...\n",
              "1  virgin's richard branson urges australians to ...  ...  [virgin, richard, branson, urge, australian, g...\n",
              "3  #palestinians can't even get a #covidvaccine o...  ...  [palestinian, cant, even, get, covidvaccine, e...\n",
              "4  @peterhotez the percentage of adults in canada...  ...  [percentage, adult, canada, received, one, dos...\n",
              "5  is it bad to wait until the fda approves the c...  ...  [bad, wait, fda, approves, covid, vaccine, get...\n",
              "6  @vvrabbi @choccymilk1234 @thehill natural immu...  ...  [natural, immunity, may, help, v, variant, lik...\n",
              "7  you’ll never get the “covid vaccine” in this a...  ...  [youll, never, get, covid, vaccine, arm, fucki...\n",
              "8  @profpcdoherty i have a colleague who caught c...  ...  [colleague, caught, covid, overseas, bad, reac...\n",
              "9  getting vaccinated is the best way to protect ...  ...  [getting, vaccinated, best, way, protect, love...\n",
              "\n",
              "[9 rows x 7 columns]"
            ]
          },
          "metadata": {
            "tags": []
          },
          "execution_count": 35
        }
      ]
    },
    {
      "cell_type": "code",
      "metadata": {
        "id": "-Zg3Lt9wQ9NU"
      },
      "source": [
        "Tweets_May.to_csv('Tweets_May_Cleaned.csv')"
      ],
      "execution_count": null,
      "outputs": []
    },
    {
      "cell_type": "code",
      "metadata": {
        "id": "kxML1b2VRREJ"
      },
      "source": [
        "Tweets_Random_Sample = Tweets_May.sample(n=500)"
      ],
      "execution_count": null,
      "outputs": []
    },
    {
      "cell_type": "code",
      "metadata": {
        "id": "FTT42eLSTDVY"
      },
      "source": [
        "Tweets_Random_Sample.to_csv('Tweets_Random_Sample.csv')"
      ],
      "execution_count": null,
      "outputs": []
    },
    {
      "cell_type": "code",
      "metadata": {
        "id": "uvZ7XIYBTK-q"
      },
      "source": [
        ""
      ],
      "execution_count": null,
      "outputs": []
    }
  ]
}